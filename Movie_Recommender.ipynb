{
 "cells": [
  {
   "cell_type": "code",
   "execution_count": 1,
   "metadata": {},
   "outputs": [],
   "source": [
    "import math\n",
    "import pandas as pd\n",
    "import operator"
   ]
  },
  {
   "cell_type": "code",
   "execution_count": 26,
   "metadata": {},
   "outputs": [],
   "source": [
    "#Building Custom Data for Movie Rating\n",
    "review = {\n",
    "'User 1': {\n",
    "'Avatar': 3.00,\n",
    "'The Godfather': 2.00, \n",
    "'The Godfather Part II': 4.00,\n",
    "'Apocalypse Now': 1.00, \n",
    "},\n",
    "'User 2': {\n",
    "'The Shawshank Redemption': 3.00, \n",
    "'The Shining': 2.00 , \n",
    "'The Green Mile': 1.00,\n",
    "'The Godfather': 3.00,\n",
    "'The Godfather Part II': 1.00\n",
    "},\n",
    "'User 3': {\n",
    "'Raiders of the Lost Ark': 5.0, \n",
    "'Jaws': 3.00,\n",
    "'Saving Private Ryan': 3.00, \n",
    "'Star Wars Episode IV - A New Hope': 4.00,\n",
    "'Close Encounters of the Third Kind': 5.00,\n",
    "\n",
    "},\n",
    "'User 4':{\n",
    "'Star Wars Episode IV - A New Hope': 5.00,\n",
    "'The Apartment': 4.00,\n",
    "'Jaws': 5.00,\n",
    "'The Notebook':0.00\n",
    "},\n",
    "'User 5': {\n",
    "'The Godfather': 4.02, \n",
    "'The Godfather Part II': 5.00,\n",
    "'Avatar': 2,\n",
    "'The Green Mile':  2.00,\n",
    "'The Notebook': 5.00,\n",
    "},\n",
    "'User 6': {\n",
    "'The Godfather': 3.07, \n",
    "'The Godfather Part II': 4.29, \n",
    "'Raging Bull': 5.00,\n",
    "'The Notebook': 1.00,\n",
    "'Goodfellas':  4.89\n",
    "},\n",
    "'User 7': {\n",
    "'The Godfather': 3.80, \n",
    "'The Godfather Part II': 3.61,\n",
    "'Apocalypse Now': 4.26,\n",
    "'Avatar': 4.99,\n",
    "'The Godfather Part II': 0.63\n",
    "},\n",
    "'User 8': {\n",
    "'The Shining': 5.0,\n",
    "'One Flew Over The Cuckoos Nest': 5.0,\n",
    "'The Godfather': 2.22,\n",
    "'The Godfather Part II': 3.34,\n",
    "'Star Wars Episode IV - A New Hope': 4.84,\n",
    "},\n",
    "'User 9': {\n",
    "'The Shawshank Redemption': 4.98,\n",
    "'The Shining': 4.42,\n",
    "'Apocalypse Now': 1.63,\n",
    "'The Godfather': 1.12,\n",
    "'The Godfather Part II': 2.16,\n",
    "},\n",
    "'User 10': {\n",
    "'Raiders of the Lost Ark': 5.0, \n",
    "'Saving Private Ryan': 3.78, \n",
    "'The Green Mile': 4.96,\n",
    "'The Godfather': 1.04,\n",
    "'The Godfather Part II': 1.03\n",
    "},\n",
    "\n",
    "'User 11': {\n",
    "'The Godfather': 1.98,\n",
    "'The Godfather Part II': 1.93,\n",
    "'Close Encounters of the Third Kind': 1.37,\n",
    "'The Godfather': 1.07,\n",
    "'Raging Bull': 4.89\n",
    "},\n",
    "'User 12': {\n",
    "'Jaws': 5.0, \n",
    "'Sex in the City': 4.8,\n",
    "'The Notebook': 4.5,\n",
    "'Avatar': 4.8,\n",
    "'Close Encounters of the Third Kind': 2.0,},\n",
    "\n",
    "'User 13': {\n",
    "'Jaws': 1.24,\n",
    "'One Flew Over The Cuckoos Nest': 2.02,\n",
    "'Sex in the City': 2.6,\n",
    "'The Notebook': 4.5,\n",
    "'Apocalypse Now': 3.5\n",
    "},\n",
    "'User 14': {\n",
    "'Raging Bull': 5.0, \n",
    "'Goodfellas': 4.87,\n",
    "'The Godfather': 2.8,\n",
    "'The Godfather Part II': 3.16,\n",
    "'The Godfather Part II': 4.63\n",
    "},\n",
    "'User 15': {\n",
    "'The Godfather': 2.80, \n",
    "'Avatar': 1.99,\n",
    "},\n",
    "'User 16': {\n",
    "'The Shining': 5.0,\n",
    "'Star Wars Episode IV - A New Hope': 1.84,\n",
    "},\n",
    "}"
   ]
  },
  {
   "attachments": {},
   "cell_type": "markdown",
   "metadata": {},
   "source": [
    "##### Polarizing the reviews: setting values high(1) if the review is above 2.5 and low(0) if the review is below"
   ]
  },
  {
   "cell_type": "code",
   "execution_count": 27,
   "metadata": {},
   "outputs": [],
   "source": [
    "for i in review:\n",
    "    for j in review[i]:\n",
    "        if review[i][j] >=2.5:\n",
    "            review[i][j] = 1\n",
    "        else:\n",
    "            review[i][j] = 0"
   ]
  },
  {
   "cell_type": "code",
   "execution_count": 28,
   "metadata": {},
   "outputs": [
    {
     "data": {
      "text/plain": [
       "{'User 1': {'Avatar': 1,\n",
       "  'The Godfather': 0,\n",
       "  'The Godfather Part II': 1,\n",
       "  'Apocalypse Now': 0},\n",
       " 'User 2': {'The Shawshank Redemption': 1,\n",
       "  'The Shining': 0,\n",
       "  'The Green Mile': 0,\n",
       "  'The Godfather': 1,\n",
       "  'The Godfather Part II': 0},\n",
       " 'User 3': {'Raiders of the Lost Ark': 1,\n",
       "  'Jaws': 1,\n",
       "  'Saving Private Ryan': 1,\n",
       "  'Star Wars Episode IV - A New Hope': 1,\n",
       "  'Close Encounters of the Third Kind': 1},\n",
       " 'User 4': {'Star Wars Episode IV - A New Hope': 1,\n",
       "  'The Apartment': 1,\n",
       "  'Jaws': 1,\n",
       "  'The Notebook': 0},\n",
       " 'User 5': {'The Godfather': 1,\n",
       "  'The Godfather Part II': 1,\n",
       "  'Avatar': 0,\n",
       "  'The Green Mile': 0,\n",
       "  'The Notebook': 1},\n",
       " 'User 6': {'The Godfather': 1,\n",
       "  'The Godfather Part II': 1,\n",
       "  'Raging Bull': 1,\n",
       "  'The Notebook': 0,\n",
       "  'Goodfellas': 1},\n",
       " 'User 7': {'The Godfather': 1,\n",
       "  'The Godfather Part II': 0,\n",
       "  'Apocalypse Now': 1,\n",
       "  'Avatar': 1},\n",
       " 'User 8': {'The Shining': 1,\n",
       "  'One Flew Over The Cuckoos Nest': 1,\n",
       "  'The Godfather': 0,\n",
       "  'The Godfather Part II': 1,\n",
       "  'Star Wars Episode IV - A New Hope': 1},\n",
       " 'User 9': {'The Shawshank Redemption': 1,\n",
       "  'The Shining': 1,\n",
       "  'Apocalypse Now': 0,\n",
       "  'The Godfather': 0,\n",
       "  'The Godfather Part II': 0},\n",
       " 'User 10': {'Raiders of the Lost Ark': 1,\n",
       "  'Saving Private Ryan': 1,\n",
       "  'The Green Mile': 1,\n",
       "  'The Godfather': 0,\n",
       "  'The Godfather Part II': 0},\n",
       " 'User 11': {'The Godfather': 0,\n",
       "  'The Godfather Part II': 0,\n",
       "  'Close Encounters of the Third Kind': 0,\n",
       "  'Raging Bull': 1},\n",
       " 'User 12': {'Jaws': 1,\n",
       "  'Sex in the City': 1,\n",
       "  'The Notebook': 1,\n",
       "  'Avatar': 1,\n",
       "  'Close Encounters of the Third Kind': 0},\n",
       " 'User 13': {'Jaws': 0,\n",
       "  'One Flew Over The Cuckoos Nest': 0,\n",
       "  'Sex in the City': 1,\n",
       "  'The Notebook': 1,\n",
       "  'Apocalypse Now': 1},\n",
       " 'User 14': {'Raging Bull': 1,\n",
       "  'Goodfellas': 1,\n",
       "  'The Godfather': 1,\n",
       "  'The Godfather Part II': 1},\n",
       " 'User 15': {'The Godfather': 1, 'Avatar': 0},\n",
       " 'User 16': {'The Shining': 1, 'Star Wars Episode IV - A New Hope': 0}}"
      ]
     },
     "execution_count": 28,
     "metadata": {},
     "output_type": "execute_result"
    }
   ],
   "source": [
    "review"
   ]
  },
  {
   "attachments": {},
   "cell_type": "markdown",
   "metadata": {},
   "source": [
    "#### Checking User 13 and User 14 if they love the recommendation"
   ]
  },
  {
   "cell_type": "code",
   "execution_count": 29,
   "metadata": {},
   "outputs": [],
   "source": [
    "# Function to get common movies b/w Users\n",
    "def get_common_movies(userA,userB):\n",
    "    return [movie for movie in review[userA] if movie in review[userB]]"
   ]
  },
  {
   "cell_type": "code",
   "execution_count": null,
   "metadata": {},
   "outputs": [],
   "source": [
    "for i in review:\n",
    "    "
   ]
  },
  {
   "cell_type": "code",
   "execution_count": 33,
   "metadata": {},
   "outputs": [
    {
     "data": {
      "text/plain": [
       "['The Godfather', 'The Godfather Part II']"
      ]
     },
     "execution_count": 33,
     "metadata": {},
     "output_type": "execute_result"
    }
   ],
   "source": [
    "get_common_movies('User 1','User 2')"
   ]
  },
  {
   "cell_type": "code",
   "execution_count": 34,
   "metadata": {},
   "outputs": [],
   "source": [
    "# Reviews from the common movies\n",
    "def get_reviews(userA,userB):\n",
    "    common_movies = get_common_movies(userA,userB)\n",
    "    return [(review[userA][movie], review[userB][movie]) for movie in common_movies]"
   ]
  },
  {
   "cell_type": "code",
   "execution_count": 36,
   "metadata": {},
   "outputs": [
    {
     "data": {
      "text/plain": [
       "[(0, 1), (1, 0)]"
      ]
     },
     "execution_count": 36,
     "metadata": {},
     "output_type": "execute_result"
    }
   ],
   "source": [
    "get_reviews('User 1','User 2')"
   ]
  },
  {
   "cell_type": "markdown",
   "metadata": {},
   "source": [
    "#### Euclidean Distance Formula for Calculating similarity"
   ]
  },
  {
   "cell_type": "code",
   "execution_count": 37,
   "metadata": {},
   "outputs": [],
   "source": [
    "# Function to get Euclidean Distance b/w 2 points \n",
    "def euclidean_distance(points):\n",
    "    squared_diffs = [(point[0] - point[1]) ** 2 for point in points]\n",
    "    summed_squared_diffs = sum(squared_diffs)\n",
    "    distance = math.sqrt(summed_squared_diffs)\n",
    "    return distance"
   ]
  },
  {
   "cell_type": "code",
   "execution_count": 38,
   "metadata": {},
   "outputs": [],
   "source": [
    "# Function to  calculate similarity more similar less the distance and vice versa\n",
    "# Added 1 for if highly similar can make the distance zero and give NotDefined Error\n",
    "def similarity(reviews):\n",
    "    return 1/ (1 + euclidean_distance(reviews))"
   ]
  },
  {
   "cell_type": "code",
   "execution_count": 39,
   "metadata": {},
   "outputs": [],
   "source": [
    "# Function to get similarity b/w 2 users\n",
    "def get_critic_similarity(userA, userB):\n",
    "    reviews = get_reviews(userA,userB)\n",
    "    return similarity(reviews)"
   ]
  },
  {
   "cell_type": "code",
   "execution_count": 40,
   "metadata": {},
   "outputs": [
    {
     "data": {
      "text/plain": [
       "0.4142135623730951"
      ]
     },
     "execution_count": 40,
     "metadata": {},
     "output_type": "execute_result"
    }
   ],
   "source": [
    "get_critic_similarity('User 1','User 2')"
   ]
  },
  {
   "cell_type": "code",
   "execution_count": 41,
   "metadata": {},
   "outputs": [],
   "source": [
    "# Function to give recommendation to users based on their reviews.\n",
    "def recommend_movies(critic, num_suggestions):\n",
    "    similarity_scores = [(get_critic_similarity(critic, other), other) for other in review if other != critic]\n",
    "    # Get similarity Scores for all the critics\n",
    "    similarity_scores.sort() \n",
    "    similarity_scores.reverse()\n",
    "    similarity_scores = similarity_scores[0:num_suggestions]\n",
    "\n",
    "    recommendations = {}\n",
    "    # Dictionary to store recommendations\n",
    "    for similarity, other in similarity_scores:\n",
    "        reviewed = review[other]\n",
    "        # Storing the review\n",
    "        for movie in reviewed:\n",
    "            if movie not in review[critic]:\n",
    "                weight = similarity * reviewed[movie]\n",
    "                # Weighing similarity with review\n",
    "                if movie in recommendations:\n",
    "                    sim, weights = recommendations[movie]\n",
    "                    recommendations[movie] = (sim + similarity, weights + [weight])\n",
    "                    # Similarity of movie along with weight\n",
    "                else:\n",
    "                    recommendations[movie] = (similarity, [weight])\n",
    "                    \n",
    "\n",
    "    for recommendation in recommendations:\n",
    "        similarity, movie = recommendations[recommendation]\n",
    "        recommendations[recommendation] = sum(movie) / similarity\n",
    "        # Normalizing weights with similarity\n",
    "\n",
    "    sorted_recommendations = sorted(recommendations.items(), key=operator.itemgetter(1), reverse=True)\n",
    "     #Sorting recommendations with weight\n",
    "    return sorted_recommendations"
   ]
  },
  {
   "cell_type": "code",
   "execution_count": 46,
   "metadata": {},
   "outputs": [
    {
     "data": {
      "text/plain": [
       "[('The Godfather Part II', 1.0),\n",
       " ('Raging Bull', 1.0),\n",
       " ('Goodfellas', 1.0),\n",
       " ('The Notebook', 0.5),\n",
       " ('The Green Mile', 0.0)]"
      ]
     },
     "execution_count": 46,
     "metadata": {},
     "output_type": "execute_result"
    }
   ],
   "source": [
    "recommend_movies('User 15',2)"
   ]
  },
  {
   "cell_type": "code",
   "execution_count": 47,
   "metadata": {},
   "outputs": [
    {
     "data": {
      "text/plain": [
       "[('The Shawshank Redemption', 1.0),\n",
       " ('Avatar', 1.0),\n",
       " ('Apocalypse Now', 0.5),\n",
       " ('The Godfather', 0.5),\n",
       " ('The Godfather Part II', 0.0)]"
      ]
     },
     "execution_count": 47,
     "metadata": {},
     "output_type": "execute_result"
    }
   ],
   "source": [
    "recommend_movies('User 16',2)"
   ]
  },
  {
   "attachments": {},
   "cell_type": "markdown",
   "metadata": {},
   "source": [
    "##### Polarizing the reviews decrease the eculidean dstance which inturn increase the similarity between two users rating. This makes our recommender system poor. As the scale gets lower, many values gets merged and the difference between the likelihood of a movie being liked by the user gets decreased in reality(even if our recommeder system shows it to be the best recommended movie)"
   ]
  },
  {
   "attachments": {},
   "cell_type": "markdown",
   "metadata": {},
   "source": [
    "#### Besides, giving much reciew increase the number of recommended movies which are tought to be liked by the user. So, we encourage the user to review more, to get more recommendation. The system identify the users interest based on his/her recommendation"
   ]
  },
  {
   "attachments": {},
   "cell_type": "markdown",
   "metadata": {},
   "source": [
    "##### With smaller number of reviews, the likelihood of the user to watch common movie with another users become so small. In this case, it is hard for the recommender to find the best movies that the user may get interested with, hence poor recommendation. "
   ]
  },
  {
   "cell_type": "markdown",
   "metadata": {},
   "source": []
  }
 ],
 "metadata": {
  "kernelspec": {
   "display_name": "Python 3",
   "language": "python",
   "name": "python3"
  },
  "language_info": {
   "codemirror_mode": {
    "name": "ipython",
    "version": 3
   },
   "file_extension": ".py",
   "mimetype": "text/x-python",
   "name": "python",
   "nbconvert_exporter": "python",
   "pygments_lexer": "ipython3",
   "version": "3.10.5 (tags/v3.10.5:f377153, Jun  6 2022, 16:14:13) [MSC v.1929 64 bit (AMD64)]"
  },
  "orig_nbformat": 4,
  "vscode": {
   "interpreter": {
    "hash": "afb734500600fd355917ca529030176ea0ca205570884b88f2f6f7d791fd3fbe"
   }
  }
 },
 "nbformat": 4,
 "nbformat_minor": 2
}
